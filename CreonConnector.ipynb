{
 "cells": [
  {
   "cell_type": "code",
   "execution_count": 1,
   "metadata": {},
   "outputs": [],
   "source": [
    "from pywinauto import application\n",
    "import time\n",
    "import os"
   ]
  },
  {
   "cell_type": "code",
   "execution_count": 2,
   "metadata": {},
   "outputs": [],
   "source": [
    "os.system('taskkill /IM coStarter* /F /T')\n",
    "os.system('taskkill /IM CpStart* /F /T')\n",
    "os.system('taskkill /IM DibServer* /F /T')\n",
    "os.system('wmic process where \"name like \\'%coStarter%\\'\" call terminate')\n",
    "os.system('wmic process where \"name like \\'%CpStart%\\'\" call terminate')\n",
    "os.system('wmic process where \"name like \\'%DibServer%\\'\" call terminate')\n",
    "time.sleep(5)"
   ]
  },
  {
   "cell_type": "code",
   "execution_count": 3,
   "metadata": {},
   "outputs": [],
   "source": [
    "app = application.Application()\n",
    "app.start('C:\\CREON\\STARTER\\coStarter.exe /prj:cp /id:your id /pwd:your pw /pwdcert:your cert pw /autostart')\n",
    "time.sleep(60)"
   ]
  }
 ],
 "metadata": {
  "kernelspec": {
   "display_name": "Python 3",
   "language": "python",
   "name": "python3"
  },
  "language_info": {
   "codemirror_mode": {
    "name": "ipython",
    "version": 3
   },
   "file_extension": ".py",
   "mimetype": "text/x-python",
   "name": "python",
   "nbconvert_exporter": "python",
   "pygments_lexer": "ipython3",
   "version": "3.7.9"
  }
 },
 "nbformat": 4,
 "nbformat_minor": 4
}
