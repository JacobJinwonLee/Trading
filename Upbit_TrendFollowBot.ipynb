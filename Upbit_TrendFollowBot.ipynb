{
 "cells": [
  {
   "cell_type": "code",
   "execution_count": 7,
   "metadata": {},
   "outputs": [],
   "source": [
    "import pyupbit\n",
    "import pandas as pd\n",
    "from datetime import datetime\n",
    "import numpy as np\n",
    "%matplotlib inline\n",
    "import matplotlib.pyplot as plt\n",
    "import math\n",
    "import time\n",
    "import calendar\n",
    "import telegram\n",
    "import json\n",
    "plt.rcParams[\"figure.figsize\"] = (10, 6) # (w, h)"
   ]
  },
  {
   "cell_type": "code",
   "execution_count": null,
   "metadata": {},
   "outputs": [],
   "source": [
    "with open('UpbitTrendFollow_Bot.txt', 'r') as f:\n",
    "    lines = f.readlines()\n",
    "    access = lines[0].strip()\n",
    "    secret = lines[1].strip()\n",
    "    token = lines[2].strip()\n",
    "    chat_id = lines[3].strip()"
   ]
  },
  {
   "cell_type": "code",
   "execution_count": null,
   "metadata": {},
   "outputs": [],
   "source": [
    "upbit = pyupbit.Upbit(access, secret)\n",
    "bot = telegram.Bot(token=token)"
   ]
  },
  {
   "cell_type": "code",
   "execution_count": null,
   "metadata": {},
   "outputs": [],
   "source": [
    "# 원본\n",
    "# 4시간봉, 최근 num_candle봉, atr 추가\n",
    "def get_candle_high_low_range(crypto):\n",
    "    df = pyupbit.get_ohlcv(crypto, interval = 'minute240', to=datetime.now()).tail(20)\n",
    "    candle_high = max(df['high'])\n",
    "    candle_low = min(df['low'])\n",
    "    candle_high80 = candle_low + 0.8 * (candle_high - candle_low)\n",
    "    candle_low20 = candle_low + 0.2 * (candle_high - candle_low)\n",
    "    \n",
    "    return candle_high, candle_low, candle_high80, candle_low20"
   ]
  },
  {
   "cell_type": "code",
   "execution_count": 1,
   "metadata": {},
   "outputs": [],
   "source": [
    "def telegramlog(message):\n",
    "    # 함수로 받은 문자열을 파이썬에서 출력 + 텔레그램 메시지로 전송\n",
    "    print(datetime.now().strftime('[%y/%m/%d %H:%M:%S]'), message)\n",
    "    strbuf = datetime.now().strftime('[%y/%m/%d %H:%M:%S] ') + message\n",
    "    \n",
    "    # Use your telegram chat_id\n",
    "    bot.sendMessage(chat_id = chat_id, text = strbuf)\n",
    "\n",
    "def printlog(message, *args):\n",
    "    # 함수로 받은 문자열을 파이썬에서 출력\n",
    "    print(datetime.now().strftime('[%y/%m/%d %H:%M:%S]'), message, *args)"
   ]
  },
  {
   "cell_type": "code",
   "execution_count": null,
   "metadata": {},
   "outputs": [],
   "source": [
    "def buy_crypto(crypto):\n",
    "    current_price = pyupbit.get_current_price(crypto)\n",
    "    unit = upbit.get_balance(ticker=crypto)\n",
    "    # 매수 신호: 4시간봉 20개 동안 고가-저가 범위의 상단 80%보다 현재가가 높음. 이미 보유 중이면 추가 매수 안 함\n",
    "    # (보유 개수 0일 때만 매수)\n",
    "    if current_price > get_candle_high_low_range(crypto)[2] and str(unit)=='0':\n",
    "        # 본인 계좌 예수금\n",
    "        krw = upbit.get_balance(ticker=\"KRW\")\n",
    "        # crypto currency의 매도 호가 중 가장 낮은 호가\n",
    "        orderbook = pyupbit.get_orderbook(tickers=crypto)[0]['orderbook_units'][0]['ask_price']\n",
    "        # BTC, ETH, BCH, EOS, XRP\n",
    "        amount = krw / (6 - len(upbit.get_balances())) - 0.01 * krw\n",
    "        unit = amount / orderbook\n",
    "        # 시장가 매수: 매수는 돈 얼마 넣는지로 나옴\n",
    "        upbit.buy_market_order(crypto, amount)\n",
    "        telegramlog(\"BUY ORDER SUBMITTED: \"+str(unit)+\" \"+str(crypto))"
   ]
  },
  {
   "cell_type": "code",
   "execution_count": null,
   "metadata": {},
   "outputs": [],
   "source": [
    "# 원본\n",
    "def sell_crypto(crypto):\n",
    "    current_price = pyupbit.get_current_price(crypto)\n",
    "    unit = upbit.get_balance(ticker=crypto)\n",
    "    # 매도 신호: 4시간봉 20개 동안 고가-저가 범위의 하단 20%보다 현재가가 낮음\n",
    "    if current_price < get_candle_high_low_range(crypto)[3] and str(unit) != '0':\n",
    "        # 시장가 매도: 매도는 몇 개 파는지로 나옴\n",
    "        upbit.sell_market_order(crypto, unit)\n",
    "        telegramlog(\"SELL ORDER SUBMITTED \"+str(unit)+\" \"+str(crypto))"
   ]
  },
  {
   "cell_type": "code",
   "execution_count": null,
   "metadata": {},
   "outputs": [],
   "source": [
    "def stoploss_crypto(crypto):\n",
    "    current_price = pyupbit.get_current_price(crypto)\n",
    "    unit = upbit.get_balance(ticker=crypto)\n",
    "    # 손절 신호: 매수가보다 10% 하락 시 손절 (매매 1회 당 총 투자금의 2% 손실까지 허용). 슬리피지 감안하여 9%에 손절선 설정\n",
    "    if current_price < 0.91 * upbit.get_avg_buy_price(ticker=crypto) and str(unit) != '0':\n",
    "        # 시장가 매도\n",
    "        upbit.sell_market_order(crypto, unit)\n",
    "        telegramlog(\"STOP LOSS ORDER SUBMITTED \"+str(unit)+\" \"+str(crypto))"
   ]
  },
  {
   "cell_type": "code",
   "execution_count": null,
   "metadata": {},
   "outputs": [],
   "source": [
    "while True:\n",
    "    try:        \n",
    "        buy_crypto(\"KRW-BTC\")\n",
    "        buy_crypto(\"KRW-ETH\")\n",
    "        buy_crypto(\"KRW-BCH\")\n",
    "        buy_crypto(\"KRW-EOS\")\n",
    "        buy_crypto(\"KRW-XRP\")\n",
    "        \n",
    "        sell_crypto(\"KRW-BTC\")\n",
    "        sell_crypto(\"KRW-ETH\")\n",
    "        sell_crypto(\"KRW-BCH\")\n",
    "        sell_crypto(\"KRW-EOS\")\n",
    "        sell_crypto(\"KRW-XRP\")\n",
    "        \n",
    "        stoploss_crypto(\"KRW-BTC\")\n",
    "        stoploss_crypto(\"KRW-ETH\")\n",
    "        stoploss_crypto(\"KRW-BCH\")\n",
    "        stoploss_crypto(\"KRW-EOS\")\n",
    "        stoploss_crypto(\"KRW-XRP\")\n",
    "        \n",
    "    except:\n",
    "        print(\"Error! \")\n",
    "        telegramlog(\"Bot Error!\")\n",
    "    \n",
    "    time.sleep(1)"
   ]
  },
  {
   "cell_type": "code",
   "execution_count": null,
   "metadata": {},
   "outputs": [],
   "source": []
  }
 ],
 "metadata": {
  "kernelspec": {
   "display_name": "Python 3",
   "language": "python",
   "name": "python3"
  },
  "language_info": {
   "codemirror_mode": {
    "name": "ipython",
    "version": 3
   },
   "file_extension": ".py",
   "mimetype": "text/x-python",
   "name": "python",
   "nbconvert_exporter": "python",
   "pygments_lexer": "ipython3",
   "version": "3.7.6"
  }
 },
 "nbformat": 4,
 "nbformat_minor": 4
}
